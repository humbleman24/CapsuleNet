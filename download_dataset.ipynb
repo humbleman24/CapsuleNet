{
 "cells": [
  {
   "cell_type": "code",
   "execution_count": 1,
   "id": "9d2742ea",
   "metadata": {},
   "outputs": [],
   "source": [
    "import os\n",
    "from torchvision.datasets import CIFAR10\n",
    "from torchvision import transforms"
   ]
  },
  {
   "cell_type": "code",
   "execution_count": 2,
   "id": "d75a5bb3",
   "metadata": {},
   "outputs": [
    {
     "name": "stdout",
     "output_type": "stream",
     "text": [
      "正在下载 CIFAR-10 训练集...\n"
     ]
    },
    {
     "name": "stderr",
     "output_type": "stream",
     "text": [
      "100%|██████████| 170M/170M [59:35<00:00, 47.7kB/s]   \n"
     ]
    },
    {
     "name": "stdout",
     "output_type": "stream",
     "text": [
      "训练集大小: 50000\n",
      "正在下载 CIFAR-10 测试集...\n",
      "测试集大小: 10000\n",
      "\n",
      "CIFAR-10 数据集已下载到: /var/data\n",
      "数据集信息:\n",
      "- 类别数量: 10\n",
      "- 类别名称: ['airplane', 'automobile', 'bird', 'cat', 'deer', 'dog', 'frog', 'horse', 'ship', 'truck']\n",
      "- 图像尺寸: (32, 32, 3)\n"
     ]
    }
   ],
   "source": [
    "\n",
    "data_root = \"/var/data\"  \n",
    "\n",
    "\n",
    "# 定义基本的数据转换\n",
    "transform = transforms.ToTensor()\n",
    "\n",
    "# 下载训练集\n",
    "print(\"正在下载 CIFAR-10 训练集...\")\n",
    "train_dataset = CIFAR10(\n",
    "    root=data_root,\n",
    "    train=True,\n",
    "    transform=transform,\n",
    "    download=True\n",
    ")\n",
    "print(f\"训练集大小: {len(train_dataset)}\")\n",
    "\n",
    "# 下载测试集\n",
    "print(\"正在下载 CIFAR-10 测试集...\")\n",
    "test_dataset = CIFAR10(\n",
    "    root=data_root,\n",
    "    train=False,\n",
    "    transform=transform,\n",
    "    download=True\n",
    ")\n",
    "print(f\"测试集大小: {len(test_dataset)}\")\n",
    "\n",
    "print(f\"\\nCIFAR-10 数据集已下载到: {os.path.abspath(data_root)}\")\n",
    "print(\"数据集信息:\")\n",
    "print(f\"- 类别数量: {len(train_dataset.classes)}\")\n",
    "print(f\"- 类别名称: {train_dataset.classes}\")\n",
    "print(f\"- 图像尺寸: {train_dataset.data.shape[1:]}\") "
   ]
  }
 ],
 "metadata": {
  "kernelspec": {
   "display_name": "base",
   "language": "python",
   "name": "python3"
  },
  "language_info": {
   "codemirror_mode": {
    "name": "ipython",
    "version": 3
   },
   "file_extension": ".py",
   "mimetype": "text/x-python",
   "name": "python",
   "nbconvert_exporter": "python",
   "pygments_lexer": "ipython3",
   "version": "3.12.7"
  }
 },
 "nbformat": 4,
 "nbformat_minor": 5
}
